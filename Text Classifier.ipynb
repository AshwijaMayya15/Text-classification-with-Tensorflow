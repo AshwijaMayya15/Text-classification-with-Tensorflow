{
 "cells": [
  {
   "cell_type": "code",
   "execution_count": 1,
   "id": "9d1860c5",
   "metadata": {},
   "outputs": [],
   "source": [
    "import numpy as np\n",
    "import tensorflow as tf\n",
    "import tensorflow_hub as hub\n",
    "import tensorflow_datasets as tfds"
   ]
  },
  {
   "cell_type": "code",
   "execution_count": 2,
   "id": "d943fc12",
   "metadata": {},
   "outputs": [],
   "source": [
    "train_data,validation_data,test_data=tfds.load(name=\"imdb_reviews\",split=('train[:60%]','train[60%:]','test'), as_supervised=True)"
   ]
  },
  {
   "cell_type": "code",
   "execution_count": 3,
   "id": "ce83da1f",
   "metadata": {},
   "outputs": [
    {
     "data": {
      "text/plain": [
       "<_PrefetchDataset element_spec=(TensorSpec(shape=(), dtype=tf.string, name=None), TensorSpec(shape=(), dtype=tf.int64, name=None))>"
      ]
     },
     "execution_count": 3,
     "metadata": {},
     "output_type": "execute_result"
    }
   ],
   "source": [
    "train_data"
   ]
  },
  {
   "cell_type": "code",
   "execution_count": 4,
   "id": "19dd2585",
   "metadata": {},
   "outputs": [],
   "source": [
    "train_example_batch,train_labels_batch = next(iter(train_data.batch(10)))"
   ]
  },
  {
   "cell_type": "code",
   "execution_count": 5,
   "id": "6be193a5",
   "metadata": {},
   "outputs": [
    {
     "data": {
      "text/plain": [
       "<tf.Tensor: shape=(10,), dtype=string, numpy=\n",
       "array([b\"This was an absolutely terrible movie. Don't be lured in by Christopher Walken or Michael Ironside. Both are great actors, but this must simply be their worst role in history. Even their great acting could not redeem this movie's ridiculous storyline. This movie is an early nineties US propaganda piece. The most pathetic scenes were those when the Columbian rebels were making their cases for revolutions. Maria Conchita Alonso appeared phony, and her pseudo-love affair with Walken was nothing but a pathetic emotional plug in a movie that was devoid of any real meaning. I am disappointed that there are movies like this, ruining actor's like Christopher Walken's good name. I could barely sit through it.\",\n",
       "       b'I have been known to fall asleep during films, but this is usually due to a combination of things including, really tired, being warm and comfortable on the sette and having just eaten a lot. However on this occasion I fell asleep because the film was rubbish. The plot development was constant. Constantly slow and boring. Things seemed to happen, but with no explanation of what was causing them or why. I admit, I may have missed part of the film, but i watched the majority of it and everything just seemed to happen of its own accord without any real concern for anything else. I cant recommend this film at all.',\n",
       "       b'Mann photographs the Alberta Rocky Mountains in a superb fashion, and Jimmy Stewart and Walter Brennan give enjoyable performances as they always seem to do. <br /><br />But come on Hollywood - a Mountie telling the people of Dawson City, Yukon to elect themselves a marshal (yes a marshal!) and to enforce the law themselves, then gunfighters battling it out on the streets for control of the town? <br /><br />Nothing even remotely resembling that happened on the Canadian side of the border during the Klondike gold rush. Mr. Mann and company appear to have mistaken Dawson City for Deadwood, the Canadian North for the American Wild West.<br /><br />Canadian viewers be prepared for a Reefer Madness type of enjoyable howl with this ludicrous plot, or, to shake your head in disgust.',\n",
       "       b'This is the kind of film for a snowy Sunday afternoon when the rest of the world can go ahead with its own business as you descend into a big arm-chair and mellow for a couple of hours. Wonderful performances from Cher and Nicolas Cage (as always) gently row the plot along. There are no rapids to cross, no dangerous waters, just a warm and witty paddle through New York life at its best. A family film in every sense and one that deserves the praise it received.',\n",
       "       b'As others have mentioned, all the women that go nude in this film are mostly absolutely gorgeous. The plot very ably shows the hypocrisy of the female libido. When men are around they want to be pursued, but when no \"men\" are around, they become the pursuers of a 14 year old boy. And the boy becomes a man really fast (we should all be so lucky at this age!). He then gets up the courage to pursue his true love.',\n",
       "       b\"This is a film which should be seen by anybody interested in, effected by, or suffering from an eating disorder. It is an amazingly accurate and sensitive portrayal of bulimia in a teenage girl, its causes and its symptoms. The girl is played by one of the most brilliant young actresses working in cinema today, Alison Lohman, who was later so spectacular in 'Where the Truth Lies'. I would recommend that this film be shown in all schools, as you will never see a better on this subject. Alison Lohman is absolutely outstanding, and one marvels at her ability to convey the anguish of a girl suffering from this compulsive disorder. If barometers tell us the air pressure, Alison Lohman tells us the emotional pressure with the same degree of accuracy. Her emotional range is so precise, each scene could be measured microscopically for its gradations of trauma, on a scale of rising hysteria and desperation which reaches unbearable intensity. Mare Winningham is the perfect choice to play her mother, and does so with immense sympathy and a range of emotions just as finely tuned as Lohman's. Together, they make a pair of sensitive emotional oscillators vibrating in resonance with one another. This film is really an astonishing achievement, and director Katt Shea should be proud of it. The only reason for not seeing it is if you are not interested in people. But even if you like nature films best, this is after all animal behaviour at the sharp edge. Bulimia is an extreme version of how a tormented soul can destroy her own body in a frenzy of despair. And if we don't sympathise with people suffering from the depths of despair, then we are dead inside.\",\n",
       "       b'Okay, you have:<br /><br />Penelope Keith as Miss Herringbone-Tweed, B.B.E. (Backbone of England.) She\\'s killed off in the first scene - that\\'s right, folks; this show has no backbone!<br /><br />Peter O\\'Toole as Ol\\' Colonel Cricket from The First War and now the emblazered Lord of the Manor.<br /><br />Joanna Lumley as the ensweatered Lady of the Manor, 20 years younger than the colonel and 20 years past her own prime but still glamourous (Brit spelling, not mine) enough to have a toy-boy on the side. It\\'s alright, they have Col. Cricket\\'s full knowledge and consent (they guy even comes \\'round for Christmas!) Still, she\\'s considerate of the colonel enough to have said toy-boy her own age (what a gal!)<br /><br />David McCallum as said toy-boy, equally as pointlessly glamourous as his squeeze. Pilcher couldn\\'t come up with any cover for him within the story, so she gave him a hush-hush job at the Circus.<br /><br />and finally:<br /><br />Susan Hampshire as Miss Polonia Teacups, Venerable Headmistress of the Venerable Girls\\' Boarding-School, serving tea in her office with a dash of deep, poignant advice for life in the outside world just before graduation. Her best bit of advice: \"I\\'ve only been to Nancherrow (the local Stately Home of England) once. I thought it was very beautiful but, somehow, not part of the real world.\" Well, we can\\'t say they didn\\'t warn us.<br /><br />Ah, Susan - time was, your character would have been running the whole show. They don\\'t write \\'em like that any more. Our loss, not yours.<br /><br />So - with a cast and setting like this, you have the re-makings of \"Brideshead Revisited,\" right?<br /><br />Wrong! They took these 1-dimensional supporting roles because they paid so well. After all, acting is one of the oldest temp-jobs there is (YOU name another!)<br /><br />First warning sign: lots and lots of backlighting. They get around it by shooting outdoors - \"hey, it\\'s just the sunlight!\"<br /><br />Second warning sign: Leading Lady cries a lot. When not crying, her eyes are moist. That\\'s the law of romance novels: Leading Lady is \"dewy-eyed.\"<br /><br />Henceforth, Leading Lady shall be known as L.L.<br /><br />Third warning sign: L.L. actually has stars in her eyes when she\\'s in love. Still, I\\'ll give Emily Mortimer an award just for having to act with that spotlight in her eyes (I wonder . did they use contacts?)<br /><br />And lastly, fourth warning sign: no on-screen female character is \"Mrs.\" She\\'s either \"Miss\" or \"Lady.\"<br /><br />When all was said and done, I still couldn\\'t tell you who was pursuing whom and why. I couldn\\'t even tell you what was said and done.<br /><br />To sum up: they all live through World War II without anything happening to them at all.<br /><br />OK, at the end, L.L. finds she\\'s lost her parents to the Japanese prison camps and baby sis comes home catatonic. Meanwhile (there\\'s always a \"meanwhile,\") some young guy L.L. had a crush on (when, I don\\'t know) comes home from some wartime tough spot and is found living on the street by Lady of the Manor (must be some street if SHE\\'s going to find him there.) Both war casualties are whisked away to recover at Nancherrow (SOMEBODY has to be \"whisked away\" SOMEWHERE in these romance stories!)<br /><br />Great drama.',\n",
       "       b'The film is based on a genuine 1950s novel.<br /><br />Journalist Colin McInnes wrote a set of three \"London novels\": \"Absolute Beginners\", \"City of Spades\" and \"Mr Love and Justice\". I have read all three. The first two are excellent. The last, perhaps an experiment that did not come off. But McInnes\\'s work is highly acclaimed; and rightly so. This musical is the novelist\\'s ultimate nightmare - to see the fruits of one\\'s mind being turned into a glitzy, badly-acted, soporific one-dimensional apology of a film that says it captures the spirit of 1950s London, and does nothing of the sort.<br /><br />Thank goodness Colin McInnes wasn\\'t alive to witness it.',\n",
       "       b'I really love the sexy action and sci-fi films of the sixties and its because of the actress\\'s that appeared in them. They found the sexiest women to be in these films and it didn\\'t matter if they could act (Remember \"Candy\"?). The reason I was disappointed by this film was because it wasn\\'t nostalgic enough. The story here has a European sci-fi film called \"Dragonfly\" being made and the director is fired. So the producers decide to let a young aspiring filmmaker (Jeremy Davies) to complete the picture. They\\'re is one real beautiful woman in the film who plays Dragonfly but she\\'s barely in it. Film is written and directed by Roman Coppola who uses some of his fathers exploits from his early days and puts it into the script. I wish the film could have been an homage to those early films. They could have lots of cameos by actors who appeared in them. There is one actor in this film who was popular from the sixties and its John Phillip Law (Barbarella). Gerard Depardieu, Giancarlo Giannini and Dean Stockwell appear as well. I guess I\\'m going to have to continue waiting for a director to make a good homage to the films of the sixties. If any are reading this, \"Make it as sexy as you can\"! I\\'ll be waiting!',\n",
       "       b'Sure, this one isn\\'t really a blockbuster, nor does it target such a position. \"Dieter\" is the first name of a quite popular German musician, who is either loved or hated for his kind of acting and thats exactly what this movie is about. It is based on the autobiography \"Dieter Bohlen\" wrote a few years ago but isn\\'t meant to be accurate on that. The movie is filled with some sexual offensive content (at least for American standard) which is either amusing (not for the other \"actors\" of course) or dumb - it depends on your individual kind of humor or on you being a \"Bohlen\"-Fan or not. Technically speaking there isn\\'t much to criticize. Speaking of me I find this movie to be an OK-movie.'],\n",
       "      dtype=object)>"
      ]
     },
     "execution_count": 5,
     "metadata": {},
     "output_type": "execute_result"
    }
   ],
   "source": [
    "train_example_batch"
   ]
  },
  {
   "cell_type": "code",
   "execution_count": 6,
   "id": "dd16b7d9",
   "metadata": {},
   "outputs": [
    {
     "data": {
      "text/plain": [
       "<tf.Tensor: shape=(10,), dtype=int64, numpy=array([0, 0, 0, 1, 1, 1, 0, 0, 0, 0], dtype=int64)>"
      ]
     },
     "execution_count": 6,
     "metadata": {},
     "output_type": "execute_result"
    }
   ],
   "source": [
    "train_labels_batch"
   ]
  },
  {
   "cell_type": "code",
   "execution_count": 7,
   "id": "8f72e6ea",
   "metadata": {},
   "outputs": [],
   "source": [
    "embedding = \"https://tfhub.dev/google/tf2-preview/gnews-swivel-20dim/1\"\n",
    "hub_layer = hub.KerasLayer(embedding, input_shape=[], dtype=tf.string, trainable=True)"
   ]
  },
  {
   "cell_type": "code",
   "execution_count": 8,
   "id": "92962367",
   "metadata": {},
   "outputs": [
    {
     "data": {
      "text/plain": [
       "<tf.Tensor: shape=(3, 20), dtype=float32, numpy=\n",
       "array([[ 1.765786  , -3.882232  ,  3.9134233 , -1.5557289 , -3.3362343 ,\n",
       "        -1.7357955 , -1.9954445 ,  1.2989551 ,  5.081598  , -1.1041286 ,\n",
       "        -2.0503852 , -0.72675157, -0.65675956,  0.24436149, -3.7208383 ,\n",
       "         2.0954835 ,  2.2969332 , -2.0689783 , -2.9489717 , -1.1315987 ],\n",
       "       [ 1.8804485 , -2.5852382 ,  3.4066997 ,  1.0982676 , -4.056685  ,\n",
       "        -4.891284  , -2.785554  ,  1.3874227 ,  3.8476458 , -0.9256538 ,\n",
       "        -1.896706  ,  1.2113281 ,  0.11474707,  0.76209456, -4.8791065 ,\n",
       "         2.906149  ,  4.7087674 , -2.3652055 , -3.5015898 , -1.6390051 ],\n",
       "       [ 0.71152234, -0.6353217 ,  1.7385626 , -1.1168286 , -0.5451594 ,\n",
       "        -1.1808156 ,  0.09504455,  1.4653089 ,  0.66059524,  0.79308075,\n",
       "        -2.2268345 ,  0.07446612, -1.4075904 , -0.70645386, -1.907037  ,\n",
       "         1.4419787 ,  1.9551861 , -0.42660055, -2.8022065 ,  0.43727064]],\n",
       "      dtype=float32)>"
      ]
     },
     "execution_count": 8,
     "metadata": {},
     "output_type": "execute_result"
    }
   ],
   "source": [
    "hub_layer(train_example_batch[:3])"
   ]
  },
  {
   "cell_type": "code",
   "execution_count": 9,
   "id": "88401541",
   "metadata": {},
   "outputs": [],
   "source": [
    "model = tf.keras.Sequential()\n",
    "model.add(hub_layer)\n",
    "model.add(tf.keras.layers.Dense(16,activation='relu'))\n",
    "model.add(tf.keras.layers.Dense(1))"
   ]
  },
  {
   "cell_type": "code",
   "execution_count": 10,
   "id": "700819af",
   "metadata": {},
   "outputs": [
    {
     "name": "stdout",
     "output_type": "stream",
     "text": [
      "Model: \"sequential\"\n",
      "_________________________________________________________________\n",
      " Layer (type)                Output Shape              Param #   \n",
      "=================================================================\n",
      " keras_layer (KerasLayer)    (None, 20)                400020    \n",
      "                                                                 \n",
      " dense (Dense)               (None, 16)                336       \n",
      "                                                                 \n",
      " dense_1 (Dense)             (None, 1)                 17        \n",
      "                                                                 \n",
      "=================================================================\n",
      "Total params: 400373 (1.53 MB)\n",
      "Trainable params: 400373 (1.53 MB)\n",
      "Non-trainable params: 0 (0.00 Byte)\n",
      "_________________________________________________________________\n"
     ]
    }
   ],
   "source": [
    "model.summary()"
   ]
  },
  {
   "cell_type": "code",
   "execution_count": 11,
   "id": "fc47432b",
   "metadata": {},
   "outputs": [],
   "source": [
    "model.compile(optimizer='adam',loss=tf.keras.losses.BinaryCrossentropy(from_logits=True),metrics=['accuracy'])"
   ]
  },
  {
   "cell_type": "code",
   "execution_count": 12,
   "id": "155e7660",
   "metadata": {},
   "outputs": [
    {
     "name": "stdout",
     "output_type": "stream",
     "text": [
      "Epoch 1/30\n",
      "150/150 [==============================] - 2s 12ms/step - loss: 0.6997 - accuracy: 0.5694 - val_loss: 0.5998 - val_accuracy: 0.6379\n",
      "Epoch 2/30\n",
      "150/150 [==============================] - 2s 11ms/step - loss: 0.5527 - accuracy: 0.6941 - val_loss: 0.5087 - val_accuracy: 0.7180\n",
      "Epoch 3/30\n",
      "150/150 [==============================] - 2s 11ms/step - loss: 0.4569 - accuracy: 0.7739 - val_loss: 0.4313 - val_accuracy: 0.8066\n",
      "Epoch 4/30\n",
      "150/150 [==============================] - 2s 11ms/step - loss: 0.3738 - accuracy: 0.8321 - val_loss: 0.3749 - val_accuracy: 0.8296\n",
      "Epoch 5/30\n",
      "150/150 [==============================] - 2s 11ms/step - loss: 0.3131 - accuracy: 0.8663 - val_loss: 0.3417 - val_accuracy: 0.8426\n",
      "Epoch 6/30\n",
      "150/150 [==============================] - 2s 11ms/step - loss: 0.2678 - accuracy: 0.8876 - val_loss: 0.3259 - val_accuracy: 0.8466\n",
      "Epoch 7/30\n",
      "150/150 [==============================] - 2s 11ms/step - loss: 0.2339 - accuracy: 0.9047 - val_loss: 0.3107 - val_accuracy: 0.8600\n",
      "Epoch 8/30\n",
      "150/150 [==============================] - 2s 10ms/step - loss: 0.2045 - accuracy: 0.9177 - val_loss: 0.3072 - val_accuracy: 0.8626\n",
      "Epoch 9/30\n",
      "150/150 [==============================] - 2s 10ms/step - loss: 0.1786 - accuracy: 0.9328 - val_loss: 0.3039 - val_accuracy: 0.8690\n",
      "Epoch 10/30\n",
      "150/150 [==============================] - 2s 10ms/step - loss: 0.1572 - accuracy: 0.9442 - val_loss: 0.3072 - val_accuracy: 0.8720\n",
      "Epoch 11/30\n",
      "150/150 [==============================] - 2s 10ms/step - loss: 0.1388 - accuracy: 0.9529 - val_loss: 0.3129 - val_accuracy: 0.8722\n",
      "Epoch 12/30\n",
      "150/150 [==============================] - 2s 10ms/step - loss: 0.1210 - accuracy: 0.9605 - val_loss: 0.3277 - val_accuracy: 0.8641\n",
      "Epoch 13/30\n",
      "150/150 [==============================] - 2s 10ms/step - loss: 0.1060 - accuracy: 0.9655 - val_loss: 0.3322 - val_accuracy: 0.8694\n",
      "Epoch 14/30\n",
      "150/150 [==============================] - 2s 10ms/step - loss: 0.0922 - accuracy: 0.9711 - val_loss: 0.3462 - val_accuracy: 0.8705\n",
      "Epoch 15/30\n",
      "150/150 [==============================] - 2s 10ms/step - loss: 0.0795 - accuracy: 0.9770 - val_loss: 0.3596 - val_accuracy: 0.8688\n",
      "Epoch 16/30\n",
      "150/150 [==============================] - 2s 10ms/step - loss: 0.0686 - accuracy: 0.9823 - val_loss: 0.3771 - val_accuracy: 0.8672\n",
      "Epoch 17/30\n",
      "150/150 [==============================] - 2s 10ms/step - loss: 0.0591 - accuracy: 0.9849 - val_loss: 0.3953 - val_accuracy: 0.8683\n",
      "Epoch 18/30\n",
      "150/150 [==============================] - 2s 10ms/step - loss: 0.0501 - accuracy: 0.9883 - val_loss: 0.4159 - val_accuracy: 0.8670\n",
      "Epoch 19/30\n",
      "150/150 [==============================] - 2s 11ms/step - loss: 0.0422 - accuracy: 0.9913 - val_loss: 0.4343 - val_accuracy: 0.8646\n",
      "Epoch 20/30\n",
      "150/150 [==============================] - 2s 10ms/step - loss: 0.0360 - accuracy: 0.9934 - val_loss: 0.4580 - val_accuracy: 0.8639\n",
      "Epoch 21/30\n",
      "150/150 [==============================] - 2s 10ms/step - loss: 0.0303 - accuracy: 0.9945 - val_loss: 0.4793 - val_accuracy: 0.8639\n",
      "Epoch 22/30\n",
      "150/150 [==============================] - 2s 10ms/step - loss: 0.0254 - accuracy: 0.9957 - val_loss: 0.5105 - val_accuracy: 0.8567\n",
      "Epoch 23/30\n",
      "150/150 [==============================] - 2s 11ms/step - loss: 0.0212 - accuracy: 0.9974 - val_loss: 0.5260 - val_accuracy: 0.8622\n",
      "Epoch 24/30\n",
      "150/150 [==============================] - 2s 10ms/step - loss: 0.0170 - accuracy: 0.9984 - val_loss: 0.5472 - val_accuracy: 0.8603\n",
      "Epoch 25/30\n",
      "150/150 [==============================] - 2s 10ms/step - loss: 0.0141 - accuracy: 0.9989 - val_loss: 0.5698 - val_accuracy: 0.8572\n",
      "Epoch 26/30\n",
      "150/150 [==============================] - 2s 10ms/step - loss: 0.0115 - accuracy: 0.9993 - val_loss: 0.5919 - val_accuracy: 0.8578\n",
      "Epoch 27/30\n",
      "150/150 [==============================] - 2s 10ms/step - loss: 0.0093 - accuracy: 0.9994 - val_loss: 0.6164 - val_accuracy: 0.8568\n",
      "Epoch 28/30\n",
      "150/150 [==============================] - 2s 10ms/step - loss: 0.0077 - accuracy: 0.9997 - val_loss: 0.6399 - val_accuracy: 0.8566\n",
      "Epoch 29/30\n",
      "150/150 [==============================] - 2s 10ms/step - loss: 0.0063 - accuracy: 0.9999 - val_loss: 0.6603 - val_accuracy: 0.8568\n",
      "Epoch 30/30\n",
      "150/150 [==============================] - 2s 11ms/step - loss: 0.0053 - accuracy: 0.9999 - val_loss: 0.6833 - val_accuracy: 0.8567\n"
     ]
    }
   ],
   "source": [
    "history=model.fit(train_data.shuffle(10000).batch(100),epochs=30,validation_data=validation_data.batch(100),verbose=1)"
   ]
  },
  {
   "cell_type": "code",
   "execution_count": 13,
   "id": "6e14c91a",
   "metadata": {},
   "outputs": [
    {
     "name": "stdout",
     "output_type": "stream",
     "text": [
      "250/250 - 1s - loss: 0.7501 - accuracy: 0.8396 - 1s/epoch - 4ms/step\n",
      "loss: 0.750\n",
      "accuracy: 0.840\n"
     ]
    }
   ],
   "source": [
    "results=model.evaluate(test_data.batch(100),verbose=2)\n",
    "for name,value in zip(model.metrics_names,results):\n",
    "    print(\"%s: %.3f\" %(name,value))"
   ]
  }
 ],
 "metadata": {
  "kernelspec": {
   "display_name": "Python 3 (ipykernel)",
   "language": "python",
   "name": "python3"
  },
  "language_info": {
   "codemirror_mode": {
    "name": "ipython",
    "version": 3
   },
   "file_extension": ".py",
   "mimetype": "text/x-python",
   "name": "python",
   "nbconvert_exporter": "python",
   "pygments_lexer": "ipython3",
   "version": "3.10.9"
  }
 },
 "nbformat": 4,
 "nbformat_minor": 5
}
